{
 "cells": [
  {
   "cell_type": "code",
   "execution_count": 18,
   "metadata": {
    "collapsed": false,
    "scrolled": false
   },
   "outputs": [
    {
     "name": "stdout",
     "output_type": "stream",
     "text": [
      "2.7.12 |Continuum Analytics, Inc.| (default, Jul  2 2016, 17:42:40) \n",
      "[GCC 4.4.7 20120313 (Red Hat 4.4.7-1)]\n"
     ]
    }
   ],
   "source": [
    "import sys\n",
    "import pandas as pd\n",
    "import numpy as np\n",
    "import tensorflow as tf\n",
    "print(sys.version)\n",
    "import urllib\n"
   ]
  },
  {
   "cell_type": "code",
   "execution_count": 19,
   "metadata": {
    "collapsed": false,
    "scrolled": true
   },
   "outputs": [],
   "source": [
    "import imdb\n",
    "\n",
    "# Create the object that will be used to access the IMDb's database.\n",
    "ia = imdb.IMDb() # by default access the web.\n",
    "\n",
    "# Search for a movie (get a list of Movie objects).\n",
    "s_result = ia.search_movie('The Untouchables')"
   ]
  },
  {
   "cell_type": "code",
   "execution_count": 20,
   "metadata": {
    "collapsed": false
   },
   "outputs": [],
   "source": [
    "#movieratings = pd.read_csv('ratings.csv')"
   ]
  },
  {
   "cell_type": "code",
   "execution_count": 21,
   "metadata": {
    "collapsed": true
   },
   "outputs": [],
   "source": [
    "movies = pd.read_csv('moviesfull.csv')"
   ]
  },
  {
   "cell_type": "code",
   "execution_count": 22,
   "metadata": {
    "collapsed": false
   },
   "outputs": [
    {
     "data": {
      "text/html": [
       "<div>\n",
       "<table border=\"1\" class=\"dataframe\">\n",
       "  <thead>\n",
       "    <tr style=\"text-align: right;\">\n",
       "      <th></th>\n",
       "      <th>movieId</th>\n",
       "      <th>title</th>\n",
       "      <th>genres</th>\n",
       "    </tr>\n",
       "  </thead>\n",
       "  <tbody>\n",
       "    <tr>\n",
       "      <th>0</th>\n",
       "      <td>1</td>\n",
       "      <td>Toy Story (1995)</td>\n",
       "      <td>Adventure|Animation|Children|Comedy|Fantasy</td>\n",
       "    </tr>\n",
       "    <tr>\n",
       "      <th>1</th>\n",
       "      <td>2</td>\n",
       "      <td>Jumanji (1995)</td>\n",
       "      <td>Adventure|Children|Fantasy</td>\n",
       "    </tr>\n",
       "    <tr>\n",
       "      <th>2</th>\n",
       "      <td>3</td>\n",
       "      <td>Grumpier Old Men (1995)</td>\n",
       "      <td>Comedy|Romance</td>\n",
       "    </tr>\n",
       "    <tr>\n",
       "      <th>3</th>\n",
       "      <td>4</td>\n",
       "      <td>Waiting to Exhale (1995)</td>\n",
       "      <td>Comedy|Drama|Romance</td>\n",
       "    </tr>\n",
       "    <tr>\n",
       "      <th>4</th>\n",
       "      <td>5</td>\n",
       "      <td>Father of the Bride Part II (1995)</td>\n",
       "      <td>Comedy</td>\n",
       "    </tr>\n",
       "  </tbody>\n",
       "</table>\n",
       "</div>"
      ],
      "text/plain": [
       "   movieId                               title  \\\n",
       "0        1                    Toy Story (1995)   \n",
       "1        2                      Jumanji (1995)   \n",
       "2        3             Grumpier Old Men (1995)   \n",
       "3        4            Waiting to Exhale (1995)   \n",
       "4        5  Father of the Bride Part II (1995)   \n",
       "\n",
       "                                        genres  \n",
       "0  Adventure|Animation|Children|Comedy|Fantasy  \n",
       "1                   Adventure|Children|Fantasy  \n",
       "2                               Comedy|Romance  \n",
       "3                         Comedy|Drama|Romance  \n",
       "4                                       Comedy  "
      ]
     },
     "execution_count": 22,
     "metadata": {},
     "output_type": "execute_result"
    }
   ],
   "source": [
    "movies.head()"
   ]
  },
  {
   "cell_type": "code",
   "execution_count": 23,
   "metadata": {
    "collapsed": false,
    "scrolled": true
   },
   "outputs": [
    {
     "data": {
      "text/html": [
       "<div>\n",
       "<table border=\"1\" class=\"dataframe\">\n",
       "  <thead>\n",
       "    <tr style=\"text-align: right;\">\n",
       "      <th></th>\n",
       "      <th>movieId</th>\n",
       "    </tr>\n",
       "  </thead>\n",
       "  <tbody>\n",
       "    <tr>\n",
       "      <th>count</th>\n",
       "      <td>27278.000000</td>\n",
       "    </tr>\n",
       "    <tr>\n",
       "      <th>mean</th>\n",
       "      <td>59855.480570</td>\n",
       "    </tr>\n",
       "    <tr>\n",
       "      <th>std</th>\n",
       "      <td>44429.314697</td>\n",
       "    </tr>\n",
       "    <tr>\n",
       "      <th>min</th>\n",
       "      <td>1.000000</td>\n",
       "    </tr>\n",
       "    <tr>\n",
       "      <th>25%</th>\n",
       "      <td>6931.250000</td>\n",
       "    </tr>\n",
       "    <tr>\n",
       "      <th>50%</th>\n",
       "      <td>68068.000000</td>\n",
       "    </tr>\n",
       "    <tr>\n",
       "      <th>75%</th>\n",
       "      <td>100293.250000</td>\n",
       "    </tr>\n",
       "    <tr>\n",
       "      <th>max</th>\n",
       "      <td>131262.000000</td>\n",
       "    </tr>\n",
       "  </tbody>\n",
       "</table>\n",
       "</div>"
      ],
      "text/plain": [
       "             movieId\n",
       "count   27278.000000\n",
       "mean    59855.480570\n",
       "std     44429.314697\n",
       "min         1.000000\n",
       "25%      6931.250000\n",
       "50%     68068.000000\n",
       "75%    100293.250000\n",
       "max    131262.000000"
      ]
     },
     "execution_count": 23,
     "metadata": {},
     "output_type": "execute_result"
    }
   ],
   "source": [
    "movies.describe()"
   ]
  },
  {
   "cell_type": "code",
   "execution_count": 24,
   "metadata": {
    "collapsed": false
   },
   "outputs": [
    {
     "data": {
      "text/plain": [
       "[<Movie id:0094226[http] title:_The Untouchables (1987)_>,\n",
       " <Movie id:1987680[http] title:_The Untouchables (in development) (????)_>,\n",
       " <Movie id:0052522[http] title:_\"The Untouchables\" (1959)_>,\n",
       " <Movie id:0106165[http] title:_\"The Untouchables\" (1993)_>,\n",
       " <Movie id:1675434[http] title:_The Intouchables (2011)_>,\n",
       " <Movie id:1877895[http] title:_The Untouchables (2017)_>,\n",
       " <Movie id:5509634[http] title:_Untouchable (I) (2016)_>,\n",
       " <Movie id:2266916[http] title:_Untouchable (2012)_>,\n",
       " <Movie id:0287779[http] title:_The Untouchable (1997) (VG)_>,\n",
       " <Movie id:0335509[http] title:_The Untouchables (1991) (VG)_>,\n",
       " <Movie id:5220680[http] title:_\"Untouchable\" (2017) (mini)_>,\n",
       " <Movie id:0287778[http] title:_The Untouchable 2 (2001) (VG)_>,\n",
       " <Movie id:4191792[http] title:_\"Untouchable\" (2015)_>,\n",
       " <Movie id:6172126[http] title:_Intouchables (2016)_>,\n",
       " <Movie id:0525783[http] title:_\"The Bill\" The Untouchables (2000)_>,\n",
       " <Movie id:4213272[http] title:_\"The Untouchables (1998) (TV Episode) - Children of Crime\" (1998) (mini)_>,\n",
       " <Movie id:0509662[http] title:_\"All Saints\" The Untouchables (2002)_>,\n",
       " <Movie id:2620144[http] title:_\"Frontline\" The Untouchables (2013)_>,\n",
       " <Movie id:1088289[http] title:_\"DVD_TV: Enhanced Version\" The Untouchables (2005)_>,\n",
       " <Movie id:0596815[http] title:_\"Harbour Lights\" The Untouchables (1999)_>]"
      ]
     },
     "execution_count": 24,
     "metadata": {},
     "output_type": "execute_result"
    }
   ],
   "source": [
    "s_result"
   ]
  },
  {
   "cell_type": "code",
   "execution_count": null,
   "metadata": {
    "collapsed": false,
    "scrolled": true
   },
   "outputs": [],
   "source": [
    "movies_skipped = []\n",
    "for movie_name in movies['title']:\n",
    "    movie_search_name = movie_name\n",
    "    s_result = []\n",
    "    \n",
    "    while len(s_result) == 0 and len(movie_search_name) > 0:\n",
    "        s_result = ia.search_movie(movie_search_name)\n",
    "        movie_search_name = movie_search_name.rsplit(' ', 1)[0]\n",
    "    try:\n",
    "        if len(s_result) == 0:\n",
    "            movies_skipped.append([movie_name])\n",
    "            next\n",
    "        guess_movie = s_result[0]\n",
    "        ia.update(guess_movie)\n",
    "        coverurl = guess_movie['cover url']\n",
    "        urllib.urlretrieve(coverurl, \"data/moviecovers/\" + movie_name)\n",
    "    except:\n",
    "        next"
   ]
  },
  {
   "cell_type": "code",
   "execution_count": 8,
   "metadata": {
    "collapsed": false,
    "scrolled": true
   },
   "outputs": [
    {
     "data": {
      "text/plain": [
       "[<Movie id:0094226[http] title:_The Untouchables (1987)_>,\n",
       " <Movie id:1987680[http] title:_The Untouchables (in development) (????)_>,\n",
       " <Movie id:0052522[http] title:_\"The Untouchables\" (1959)_>,\n",
       " <Movie id:0106165[http] title:_\"The Untouchables\" (1993)_>,\n",
       " <Movie id:1675434[http] title:_The Intouchables (2011)_>,\n",
       " <Movie id:1877895[http] title:_The Untouchables (2017)_>,\n",
       " <Movie id:5509634[http] title:_Untouchable (I) (2016)_>,\n",
       " <Movie id:2266916[http] title:_Untouchable (2012)_>,\n",
       " <Movie id:0287779[http] title:_The Untouchable (1997) (VG)_>,\n",
       " <Movie id:0335509[http] title:_The Untouchables (1991) (VG)_>,\n",
       " <Movie id:5220680[http] title:_\"Untouchable\" (2017) (mini)_>,\n",
       " <Movie id:0287778[http] title:_The Untouchable 2 (2001) (VG)_>,\n",
       " <Movie id:4191792[http] title:_\"Untouchable\" (2015)_>,\n",
       " <Movie id:6172126[http] title:_Intouchables (2016)_>,\n",
       " <Movie id:0525783[http] title:_\"The Bill\" The Untouchables (2000)_>,\n",
       " <Movie id:4213272[http] title:_\"The Untouchables (1998) (TV Episode) - Children of Crime\" (1998) (mini)_>,\n",
       " <Movie id:0509662[http] title:_\"All Saints\" The Untouchables (2002)_>,\n",
       " <Movie id:2620144[http] title:_\"Frontline\" The Untouchables (2013)_>,\n",
       " <Movie id:1088289[http] title:_\"DVD_TV: Enhanced Version\" The Untouchables (2005)_>,\n",
       " <Movie id:0596815[http] title:_\"Harbour Lights\" The Untouchables (1999)_>]"
      ]
     },
     "execution_count": 8,
     "metadata": {},
     "output_type": "execute_result"
    }
   ],
   "source": [
    "s_result"
   ]
  },
  {
   "cell_type": "code",
   "execution_count": 9,
   "metadata": {
    "collapsed": false
   },
   "outputs": [
    {
     "name": "stdout",
     "output_type": "stream",
     "text": [
      "[u'119']\n",
      "7.9\n"
     ]
    }
   ],
   "source": [
    "the_unt = s_result[0]\n",
    "ia.update(the_unt)\n",
    "\n",
    "# Print some information.\n",
    "print the_unt['runtime']\n",
    "print the_unt['rating']\n",
    "director = the_unt['director']"
   ]
  },
  {
   "cell_type": "code",
   "execution_count": 10,
   "metadata": {
    "collapsed": false
   },
   "outputs": [
    {
     "data": {
      "text/plain": [
       "u'Brian De Palma'"
      ]
     },
     "execution_count": 10,
     "metadata": {},
     "output_type": "execute_result"
    }
   ],
   "source": [
    "director[0]['name']"
   ]
  },
  {
   "cell_type": "code",
   "execution_count": 11,
   "metadata": {
    "collapsed": false
   },
   "outputs": [
    {
     "data": {
      "text/plain": [
       "[u'music department',\n",
       " 'sound crew',\n",
       " 'camera and electrical department',\n",
       " u'distributors',\n",
       " 'rating',\n",
       " 'runtimes',\n",
       " 'costume designer',\n",
       " 'make up',\n",
       " 'year',\n",
       " 'miscellaneous crew',\n",
       " 'color info',\n",
       " u'casting department',\n",
       " 'languages',\n",
       " 'votes',\n",
       " 'producer',\n",
       " 'title',\n",
       " 'assistant director',\n",
       " 'writer',\n",
       " 'casting director',\n",
       " 'visual effects',\n",
       " 'production manager',\n",
       " 'set decoration',\n",
       " 'editor',\n",
       " 'certificates',\n",
       " u'costume department',\n",
       " 'country codes',\n",
       " 'language codes',\n",
       " 'cover url',\n",
       " u'special effects department',\n",
       " 'special effects companies',\n",
       " 'sound mix',\n",
       " u'location management',\n",
       " 'genres',\n",
       " u'production companies',\n",
       " 'stunt performer',\n",
       " 'miscellaneous companies',\n",
       " 'cinematographer',\n",
       " 'art direction',\n",
       " 'akas',\n",
       " 'aspect ratio',\n",
       " 'director',\n",
       " 'kind',\n",
       " u'art department',\n",
       " 'countries',\n",
       " u'transportation department',\n",
       " 'plot outline',\n",
       " 'plot',\n",
       " 'cast',\n",
       " 'original music',\n",
       " u'editorial department',\n",
       " 'canonical title',\n",
       " 'long imdb title',\n",
       " 'long imdb canonical title',\n",
       " 'smart canonical title',\n",
       " 'smart long imdb canonical title',\n",
       " 'full-size cover url']"
      ]
     },
     "execution_count": 11,
     "metadata": {},
     "output_type": "execute_result"
    }
   ],
   "source": [
    "the_unt.keys()"
   ]
  },
  {
   "cell_type": "code",
   "execution_count": 16,
   "metadata": {
    "collapsed": false
   },
   "outputs": [
    {
     "data": {
      "text/plain": [
       "u'https://images-na.ssl-images-amazon.com/images/M/MV5BOGRlZWY0NTQtMGUzYy00MDk0LWJjYTUtOTA0NzA5ZTUxZGU4XkEyXkFqcGdeQXVyNjUwNzk3NDc@._V1._SX95_SY140_.jpg'"
      ]
     },
     "execution_count": 16,
     "metadata": {},
     "output_type": "execute_result"
    }
   ],
   "source": [
    "the_unt['cover url']"
   ]
  },
  {
   "cell_type": "code",
   "execution_count": 15,
   "metadata": {
    "collapsed": false
   },
   "outputs": [
    {
     "ename": "KeyError",
     "evalue": "'poster'",
     "output_type": "error",
     "traceback": [
      "\u001b[0;31m---------------------------------------------------------------------------\u001b[0m",
      "\u001b[0;31mKeyError\u001b[0m                                  Traceback (most recent call last)",
      "\u001b[0;32m<ipython-input-15-c00d3e474058>\u001b[0m in \u001b[0;36m<module>\u001b[0;34m()\u001b[0m\n\u001b[0;32m----> 1\u001b[0;31m \u001b[0mthe_unt\u001b[0m\u001b[0;34m[\u001b[0m\u001b[0;34m'poster'\u001b[0m\u001b[0;34m]\u001b[0m\u001b[0;34m\u001b[0m\u001b[0m\n\u001b[0m",
      "\u001b[0;32m/home/lee/anaconda3/envs/py2/lib/python2.7/site-packages/IMDbPY-5.0-py2.7-linux-x86_64.egg/imdb/utils.pyc\u001b[0m in \u001b[0;36m__getitem__\u001b[0;34m(self, key)\u001b[0m\n\u001b[1;32m   1467\u001b[0m         \u001b[0;31m# Handle key aliases.\u001b[0m\u001b[0;34m\u001b[0m\u001b[0;34m\u001b[0m\u001b[0m\n\u001b[1;32m   1468\u001b[0m         \u001b[0mkey\u001b[0m \u001b[0;34m=\u001b[0m \u001b[0mself\u001b[0m\u001b[0;34m.\u001b[0m\u001b[0mkeys_alias\u001b[0m\u001b[0;34m.\u001b[0m\u001b[0mget\u001b[0m\u001b[0;34m(\u001b[0m\u001b[0mkey\u001b[0m\u001b[0;34m,\u001b[0m \u001b[0mkey\u001b[0m\u001b[0;34m)\u001b[0m\u001b[0;34m\u001b[0m\u001b[0m\n\u001b[0;32m-> 1469\u001b[0;31m         \u001b[0mrawData\u001b[0m \u001b[0;34m=\u001b[0m \u001b[0mself\u001b[0m\u001b[0;34m.\u001b[0m\u001b[0mdata\u001b[0m\u001b[0;34m[\u001b[0m\u001b[0mkey\u001b[0m\u001b[0;34m]\u001b[0m\u001b[0;34m\u001b[0m\u001b[0m\n\u001b[0m\u001b[1;32m   1470\u001b[0m         \u001b[0;32mif\u001b[0m \u001b[0mkey\u001b[0m \u001b[0;32min\u001b[0m \u001b[0mself\u001b[0m\u001b[0;34m.\u001b[0m\u001b[0mkeys_tomodify\u001b[0m \u001b[0;32mand\u001b[0m\u001b[0;31m \u001b[0m\u001b[0;31m\\\u001b[0m\u001b[0;34m\u001b[0m\u001b[0m\n\u001b[1;32m   1471\u001b[0m                 \u001b[0mself\u001b[0m\u001b[0;34m.\u001b[0m\u001b[0mmodFunct\u001b[0m \u001b[0;32mnot\u001b[0m \u001b[0;32min\u001b[0m \u001b[0;34m(\u001b[0m\u001b[0mNone\u001b[0m\u001b[0;34m,\u001b[0m \u001b[0mmodNull\u001b[0m\u001b[0;34m)\u001b[0m\u001b[0;34m:\u001b[0m\u001b[0;34m\u001b[0m\u001b[0m\n",
      "\u001b[0;31mKeyError\u001b[0m: 'poster'"
     ]
    }
   ],
   "source": [
    "the_unt['poster']"
   ]
  },
  {
   "cell_type": "code",
   "execution_count": null,
   "metadata": {
    "collapsed": true
   },
   "outputs": [],
   "source": []
  }
 ],
 "metadata": {
  "anaconda-cloud": {},
  "kernelspec": {
   "display_name": "Python [conda env:py2]",
   "language": "python",
   "name": "conda-env-py2-py"
  },
  "language_info": {
   "codemirror_mode": {
    "name": "ipython",
    "version": 2
   },
   "file_extension": ".py",
   "mimetype": "text/x-python",
   "name": "python",
   "nbconvert_exporter": "python",
   "pygments_lexer": "ipython2",
   "version": "2.7.12"
  }
 },
 "nbformat": 4,
 "nbformat_minor": 1
}
