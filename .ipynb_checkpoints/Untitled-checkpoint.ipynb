{
 "cells": [
  {
   "cell_type": "code",
   "execution_count": 101,
   "metadata": {
    "collapsed": false
   },
   "outputs": [
    {
     "name": "stderr",
     "output_type": "stream",
     "text": [
      "/usr/local/lib/python2.7/site-packages/ipykernel/__main__.py:147: SettingWithCopyWarning: \n",
      "A value is trying to be set on a copy of a slice from a DataFrame.\n",
      "Try using .loc[row_indexer,col_indexer] = value instead\n",
      "\n",
      "See the caveats in the documentation: http://pandas.pydata.org/pandas-docs/stable/indexing.html#indexing-view-versus-copy\n",
      "/usr/local/lib/python2.7/site-packages/pandas/core/frame.py:2392: SettingWithCopyWarning: \n",
      "A value is trying to be set on a copy of a slice from a DataFrame\n",
      "\n",
      "See the caveats in the documentation: http://pandas.pydata.org/pandas-docs/stable/indexing.html#indexing-view-versus-copy\n",
      "  self.where(-key, value, inplace=True)\n",
      "/usr/local/lib/python2.7/site-packages/ipykernel/__main__.py:149: SettingWithCopyWarning: \n",
      "A value is trying to be set on a copy of a slice from a DataFrame\n",
      "\n",
      "See the caveats in the documentation: http://pandas.pydata.org/pandas-docs/stable/indexing.html#indexing-view-versus-copy\n"
     ]
    },
    {
     "name": "stdout",
     "output_type": "stream",
     "text": [
      "(24437, 1)\n",
      "24432\n"
     ]
    },
    {
     "ename": "IndexError",
     "evalue": "index 28 is out of bounds for axis 0 with size 1",
     "output_type": "error",
     "traceback": [
      "\u001b[0;31m---------------------------------------------------------------------------\u001b[0m",
      "\u001b[0;31mIndexError\u001b[0m                                Traceback (most recent call last)",
      "\u001b[0;32m<ipython-input-101-335bcef14a60>\u001b[0m in \u001b[0;36m<module>\u001b[0;34m()\u001b[0m\n\u001b[1;32m    185\u001b[0m     \u001b[0mratings\u001b[0m \u001b[0;34m=\u001b[0m \u001b[0mtriples\u001b[0m\u001b[0;34m[\u001b[0m\u001b[0;34m:\u001b[0m\u001b[0;34m,\u001b[0m \u001b[0;36m2\u001b[0m\u001b[0;34m]\u001b[0m\u001b[0;34m\u001b[0m\u001b[0m\n\u001b[1;32m    186\u001b[0m \u001b[0;34m\u001b[0m\u001b[0m\n\u001b[0;32m--> 187\u001b[0;31m     \u001b[0mmovieFeatures\u001b[0m \u001b[0;34m=\u001b[0m \u001b[0mfeatMat\u001b[0m\u001b[0;34m[\u001b[0m\u001b[0mmovie_idx\u001b[0m\u001b[0;34m.\u001b[0m\u001b[0mastype\u001b[0m\u001b[0;34m(\u001b[0m\u001b[0mint\u001b[0m\u001b[0;34m)\u001b[0m\u001b[0;34m]\u001b[0m\u001b[0;34m\u001b[0m\u001b[0m\n\u001b[0m\u001b[1;32m    188\u001b[0m \u001b[0;34m\u001b[0m\u001b[0m\n\u001b[1;32m    189\u001b[0m     \u001b[0;32mprint\u001b[0m \u001b[0mtriples\u001b[0m\u001b[0;34m.\u001b[0m\u001b[0mshape\u001b[0m\u001b[0;34m\u001b[0m\u001b[0m\n",
      "\u001b[0;31mIndexError\u001b[0m: index 28 is out of bounds for axis 0 with size 1"
     ]
    }
   ],
   "source": [
    "import tensorflow as tf\n",
    "import sys\n",
    "import numpy as np\n",
    "import pandas as pd\n",
    "import sklearn\n",
    "from sklearn.cross_validation import train_test_split\n",
    "from sklearn.feature_extraction.text import CountVectorizer\n",
    "\n",
    "class HybridCollabFilter():\n",
    "\n",
    "    def __init__(self, numUsers, embedding_dim,input_dim):\n",
    "\n",
    "        # hyper parameters\n",
    "        self.batch_size = 300\n",
    "        self.numUsers = numUsers\n",
    "        self.epochs = 10\n",
    "        self.init_var =.01\n",
    "\n",
    "        #Movie Features\n",
    "        self.movieFeatures = tf.placeholder(tf.float32, shape=(None,input_dim))\n",
    "\n",
    "        # input tensors for movies, usres, ratings\n",
    "        self.users = tf.placeholder(tf.int32, shape=(None))\n",
    "        self.rating = tf.placeholder(tf.float32, shape=(None))\n",
    "\n",
    "        # embedding matricies for users\n",
    "        self.userMat = tf.Variable(self.init_var*tf.random_normal([numUsers, embedding_dim]))\n",
    "        self.userBias = tf.Variable(self.init_var*tf.random_normal([numUsers,]))\n",
    "\n",
    "        #Model parameters for movies\n",
    "        self.W = tf.Variable(self.init_var*tf.random_normal([input_dim, embedding_dim]))\n",
    "        self.b = tf.Variable(self.init_var*tf.random_normal([embedding_dim]))\n",
    "\n",
    "        movieTensor = tf.matmul(self.movieFeatures,self.W) + self.b\n",
    "\n",
    "        # map each user/movie to its feature vector\n",
    "        self.U = tf.nn.embedding_lookup(self.userMat, self.users)\n",
    "        self.u_b = tf.nn.embedding_lookup(self.userBias, self.users)\n",
    "\n",
    "        # predicted rating is dot product of user and movie\n",
    "        self.yhat = tf.reduce_sum(tf.mul(self.U, movieTensor) , 1) + self.u_b\n",
    "\n",
    "        self.cost = tf.nn.l2_loss(self.yhat - self.rating)\n",
    "\n",
    "        self.optimizer = tf.train.AdamOptimizer(learning_rate=.01).minimize(self.cost)\n",
    "        \n",
    "        self.session = tf.Session()\n",
    "        self.session.run(tf.initialize_all_variables())\n",
    "\n",
    "\n",
    "    def train_test_split(self,users,movies,ratings,split=.1):\n",
    "\n",
    "        shuffle  = np.random.permutation(len(users))\n",
    "\n",
    "        partition = np.floor(len(users) * (1-split))\n",
    "\n",
    "        train_idx = shuffle[:partition]\n",
    "        test_idx = shuffle[partition:]\n",
    "\n",
    "        users_train = users[train_idx]\n",
    "        users_test = users[test_idx]\n",
    "\n",
    "        movies_train = movies[train_idx]\n",
    "        movies_test = movies[test_idx]\n",
    "\n",
    "        ratings_train = ratings[train_idx]\n",
    "        ratings_test = ratings[test_idx]\n",
    "\n",
    "        return users_train,movies_train,ratings_train , users_test,movies_test,ratings_test\n",
    "\n",
    "\n",
    "    def train(self, users, movies, ratings,val_freq=5):\n",
    "\n",
    "        users_train, movies_train, ratings_train, users_test, movies_test, ratings_test = \\\n",
    "            self.train_test_split(users,movies,ratings)\n",
    "\n",
    "        num_batches = movies_train.shape[0] // self.batch_size\n",
    "\n",
    "        for i in range(self.epochs):\n",
    "\n",
    "            avg_cost = 0\n",
    "\n",
    "            for b_idx in range(num_batches):\n",
    "\n",
    "                ratings_batch  = ratings_train[self.batch_size * b_idx:self.batch_size * (b_idx + 1)]\n",
    "\n",
    "                users_batch = users_train[self.batch_size * b_idx:self.batch_size * (b_idx + 1)]\n",
    "                movie_batch = movies_train[self.batch_size * b_idx:self.batch_size * (b_idx + 1)]\n",
    "\n",
    "                avg_cost +=  (self.session.run([self.cost, self.optimizer],\n",
    "                                             {self.users: users_batch, self.movieFeatures: movie_batch,\n",
    "                                              self.rating: ratings_batch})[0] ) / self.batch_size\n",
    "\n",
    "\n",
    "\n",
    "            print (\"Epoch: \", i, \" Average Cost: \",avg_cost / num_batches)\n",
    "\n",
    "            if i % val_freq ==0:\n",
    "                auc_mean = 0\n",
    "                uni_users = np.unique(users_test)\n",
    "                for usr in uni_users:\n",
    "                    usr_idxes = users_test == usr\n",
    "                    usr_idxes = np.where(usr_idxes)\n",
    "                    usr_u = users_test[usr_idxes]\n",
    "                    movie_u = movies_test[usr_idxes]\n",
    "                    rtg_u = ratings_test[usr_idxes]\n",
    "                    if len(usr_u) < 3:\n",
    "                        continue\n",
    "                    yhat = (self.session.run([self.yhat],\n",
    "                                             {self.users: usr_u, self.movieFeatures: movie_u,\n",
    "                                              self.rating: rtg_u})[0] )\n",
    "                    auc_mean += sklearn.metrics.auc(yhat, rtg_u, reorder = True) / len(uni_users)\n",
    "\n",
    "                print (\"Testing AUC mean: \" , auc_mean)\n",
    "                \n",
    "\n",
    "    @staticmethod\n",
    "    def map2idx(movieratings, mergedScrape_ML):\n",
    "\n",
    "        users = movieratings['userId'].values\n",
    "        movies = movieratings['movieId'].values\n",
    "\n",
    "        # unique users / movies\n",
    "        uni_users = movieratings['userId'].unique()\n",
    "        uni_movies = mergedScrape_ML['movieId'].unique()\n",
    "\n",
    "        print len(uni_movies)\n",
    "\n",
    "        # dict mapping the id to an index\n",
    "        user_map = dict(zip(uni_users, range(len(uni_users))))\n",
    "        movie_map = dict(zip(uni_movies, range(len(uni_movies))))\n",
    "\n",
    "        pairs = []\n",
    "        for user, movie, rating in zip(users, movies, movieratings['rating']):\n",
    "            if movie in movie_map:\n",
    "                pairs.append((user_map[user], movie_map[movie], rating))\n",
    "\n",
    "        return np.array(pairs), len(uni_users), len(uni_movies)\n",
    "\n",
    "\n",
    "\n",
    "def featureMatrix(movieData):\n",
    "\n",
    "    movieData.ix[pd.isnull(movieData[['plot']]).as_matrix()[:,0],'plot'] = ''\n",
    "    \n",
    "    vectorizer = CountVectorizer(max_features=200)\n",
    "\n",
    "    vectorizer.fit(movieData['plot'])\n",
    "    \n",
    "    movieFeatures = vectorizer.transform(movieData['plot'])\n",
    "\n",
    "    return movieFeatures.toarray()\n",
    "\n",
    "\n",
    "#The first iteration here will be just using plot\n",
    "if __name__ == '__main__':\n",
    "    scrapedMovieData = pd.read_csv('movieDataList.csv', index_col=0)\n",
    "\n",
    "    # Movie Lens rating data\n",
    "    movieratings = pd.read_csv('ratings.csv')\n",
    "\n",
    "    # List of movies in order\n",
    "    movieLenseMovies = pd.read_csv('movies.csv')\n",
    "\n",
    "    featMat = featureMatrix(scrapedMovieData)\n",
    "\n",
    "    movieLenseMovies.drop('genres', axis=1, inplace=True)\n",
    "\n",
    "    mergedScrape_ML = pd.merge(scrapedMovieData, movieLenseMovies, left_on='movie_len_title',\n",
    "                               right_on='title',\n",
    "                               how='left')\n",
    "\n",
    "    mergedScrape_ML.drop_duplicates(subset='movie_len_title', inplace=True)\n",
    "\n",
    "    #User and movie ids mapped to be on continuous interval\n",
    "    triples, num_users, num_movie = HybridCollabFilter.map2idx(movieratings,mergedScrape_ML)\n",
    "\n",
    "    user_idx = triples[:,0]\n",
    "    movie_idx = triples[ :,1]\n",
    "    ratings = triples[:, 2]\n",
    "\n",
    "    movieFeatures = featMat[movie_idx.astype(int)]\n",
    "\n",
    "    print triples.shape\n",
    "    print movieFeatures.shape\n",
    "\n",
    "    #(self, numUsers, embedding_dim,input_dim):\n",
    "    movieModel = HybridCollabFilter(num_users, 10, 200)\n",
    "    movieModel.train(user_idx, movieFeatures, ratings)\n",
    "\n"
   ]
  },
  {
   "cell_type": "code",
   "execution_count": 97,
   "metadata": {
    "collapsed": false
   },
   "outputs": [
    {
     "data": {
      "text/plain": [
       "array([[0, 0, 0, 0, 0, 0, 0, 0, 0, 0, 0, 0, 0, 0, 0, 0, 0, 0, 0, 0, 0, 0,\n",
       "        0, 0, 0, 0, 0, 0, 0, 0, 0, 0, 0, 0, 0, 0, 0, 0, 0, 0, 0, 0, 0, 0,\n",
       "        0, 0, 0, 0, 0, 0, 0, 0, 0, 0, 0, 0, 0, 0, 0, 0, 0, 0, 0, 0, 0, 0,\n",
       "        0, 0, 0, 0, 0, 0, 0, 0, 0, 0, 0, 0, 0, 0, 0, 0, 0, 0, 0, 0, 0, 0,\n",
       "        0, 0, 0, 0, 0, 0, 0, 0, 0, 0, 0, 0, 0, 0, 0, 0, 0, 0, 0, 0, 0, 0,\n",
       "        0, 0, 0, 0, 0, 0, 0, 0, 0, 0, 0, 0, 0, 0, 0, 0, 0, 0, 0, 0, 0, 0,\n",
       "        0, 0, 0, 0, 0, 0, 0, 0, 0, 0, 0, 0, 0, 0, 0, 0, 0, 0, 0, 0, 0, 0,\n",
       "        0, 0, 0, 0, 0, 0, 0, 0, 0, 0, 0, 0, 0, 0, 0, 0, 0, 0, 0, 0, 0, 0,\n",
       "        0, 0, 0, 0, 0, 0, 0, 0, 0, 0, 0, 0, 0, 0, 0, 0, 0, 0, 0, 0, 0, 0,\n",
       "        0, 0]])"
      ]
     },
     "execution_count": 97,
     "metadata": {},
     "output_type": "execute_result"
    }
   ],
   "source": [
    "featMat\n"
   ]
  },
  {
   "cell_type": "code",
   "execution_count": 72,
   "metadata": {
    "collapsed": false
   },
   "outputs": [
    {
     "data": {
      "text/plain": [
       "24432"
      ]
     },
     "execution_count": 72,
     "metadata": {},
     "output_type": "execute_result"
    }
   ],
   "source": [
    "len(pd.merge(scrapedMovieData, movieLenseMovies, left_on='movie_len_title',\n",
    "                               right_on='title',\n",
    "                               how='left')['movie_len_title'].unique())\n",
    "\n"
   ]
  },
  {
   "cell_type": "code",
   "execution_count": 73,
   "metadata": {
    "collapsed": false
   },
   "outputs": [
    {
     "data": {
      "text/plain": [
       "(23261, 200)"
      ]
     },
     "execution_count": 73,
     "metadata": {},
     "output_type": "execute_result"
    }
   ],
   "source": [
    "featMat.shape"
   ]
  },
  {
   "cell_type": "code",
   "execution_count": 92,
   "metadata": {
    "collapsed": false
   },
   "outputs": [
    {
     "data": {
      "text/html": [
       "<div>\n",
       "<table border=\"1\" class=\"dataframe\">\n",
       "  <thead>\n",
       "    <tr style=\"text-align: right;\">\n",
       "      <th></th>\n",
       "      <th>plot</th>\n",
       "    </tr>\n",
       "  </thead>\n",
       "  <tbody>\n",
       "    <tr>\n",
       "      <th>0</th>\n",
       "      <td>[u'A little boy named Andy loves to be in his ...</td>\n",
       "    </tr>\n",
       "    <tr>\n",
       "      <th>1</th>\n",
       "      <td>[u'After being trapped in a jungle board game ...</td>\n",
       "    </tr>\n",
       "    <tr>\n",
       "      <th>2</th>\n",
       "      <td>[u'Things don\\'t seem to change much in Wabash...</td>\n",
       "    </tr>\n",
       "    <tr>\n",
       "      <th>3</th>\n",
       "      <td>[u\"This story based on the best selling novel ...</td>\n",
       "    </tr>\n",
       "    <tr>\n",
       "      <th>4</th>\n",
       "      <td>[u'In this sequel to \"Father of the Bride\", Ge...</td>\n",
       "    </tr>\n",
       "    <tr>\n",
       "      <th>5</th>\n",
       "      <td>[u\"Hunters and their prey--Neil and his profes...</td>\n",
       "    </tr>\n",
       "    <tr>\n",
       "      <th>6</th>\n",
       "      <td>[u\"While she was growing up, Sabrina Fairchild...</td>\n",
       "    </tr>\n",
       "    <tr>\n",
       "      <th>7</th>\n",
       "      <td>[u'A mischievous young boy, Tom Sawyer (', u'T...</td>\n",
       "    </tr>\n",
       "    <tr>\n",
       "      <th>8</th>\n",
       "      <td>[u'Some terrorists kidnap the Vice President o...</td>\n",
       "    </tr>\n",
       "    <tr>\n",
       "      <th>9</th>\n",
       "      <td>[u'When a deadly satellite weapon system falls...</td>\n",
       "    </tr>\n",
       "    <tr>\n",
       "      <th>10</th>\n",
       "      <td>[u\"Andrew Shepherd is approaching the end of h...</td>\n",
       "    </tr>\n",
       "    <tr>\n",
       "      <th>11</th>\n",
       "      <td>[u'Another spoof from the mind of Mel Brooks. ...</td>\n",
       "    </tr>\n",
       "    <tr>\n",
       "      <th>12</th>\n",
       "      <td>[u'A half-wolf, half-husky named Balto gets a ...</td>\n",
       "    </tr>\n",
       "    <tr>\n",
       "      <th>13</th>\n",
       "      <td>[u\"Director Oliver Stone's exploration of form...</td>\n",
       "    </tr>\n",
       "    <tr>\n",
       "      <th>14</th>\n",
       "      <td>[u'Morgan Adams and her slave, William Shaw, a...</td>\n",
       "    </tr>\n",
       "    <tr>\n",
       "      <th>15</th>\n",
       "      <td>[u\"This Martin Scorsese film depicts the Janus...</td>\n",
       "    </tr>\n",
       "    <tr>\n",
       "      <th>16</th>\n",
       "      <td>[u'When Mr. Dashwood dies, he must leave the b...</td>\n",
       "    </tr>\n",
       "    <tr>\n",
       "      <th>17</th>\n",
       "      <td>[u\"This movie features the collaborative direc...</td>\n",
       "    </tr>\n",
       "    <tr>\n",
       "      <th>18</th>\n",
       "      <td>[u'Ace Ventura, emerging from self-imposed exi...</td>\n",
       "    </tr>\n",
       "    <tr>\n",
       "      <th>19</th>\n",
       "      <td>[u'Two foster brothers work as transit cops. W...</td>\n",
       "    </tr>\n",
       "    <tr>\n",
       "      <th>20</th>\n",
       "      <td>[u\"Some guys get all the luck, whether they li...</td>\n",
       "    </tr>\n",
       "    <tr>\n",
       "      <th>21</th>\n",
       "      <td>[u'In San Francisco, the criminal psychologist...</td>\n",
       "    </tr>\n",
       "    <tr>\n",
       "      <th>22</th>\n",
       "      <td>[u\"Robert Rath is a seasoned hitman who just w...</td>\n",
       "    </tr>\n",
       "    <tr>\n",
       "      <th>23</th>\n",
       "      <td>[u'When sheriff Barnum investigates the death ...</td>\n",
       "    </tr>\n",
       "    <tr>\n",
       "      <th>24</th>\n",
       "      <td>[u\"Because his wife left him and took his son ...</td>\n",
       "    </tr>\n",
       "    <tr>\n",
       "      <th>25</th>\n",
       "      <td>[u'Iago convinces Othello, The Moor of Venice ...</td>\n",
       "    </tr>\n",
       "    <tr>\n",
       "      <th>26</th>\n",
       "      <td>[u\"Roberta, Teeny, Samantha and Chrissy have b...</td>\n",
       "    </tr>\n",
       "    <tr>\n",
       "      <th>27</th>\n",
       "      <td>[u\"Eight years earlier, Anne Elliot, the daugh...</td>\n",
       "    </tr>\n",
       "    <tr>\n",
       "      <th>28</th>\n",
       "      <td>[u'Louanne Johnson is an ex-marine, hired as a...</td>\n",
       "    </tr>\n",
       "    <tr>\n",
       "      <th>29</th>\n",
       "      <td>[u\"In 1920's South America a small group of Fr...</td>\n",
       "    </tr>\n",
       "    <tr>\n",
       "      <th>...</th>\n",
       "      <td>...</td>\n",
       "    </tr>\n",
       "    <tr>\n",
       "      <th>24407</th>\n",
       "      <td>NaN</td>\n",
       "    </tr>\n",
       "    <tr>\n",
       "      <th>24408</th>\n",
       "      <td>NaN</td>\n",
       "    </tr>\n",
       "    <tr>\n",
       "      <th>24409</th>\n",
       "      <td>[u\"When Frank is diagnosed with incurable brai...</td>\n",
       "    </tr>\n",
       "    <tr>\n",
       "      <th>24410</th>\n",
       "      <td>[u'Tommie works as mechanic in a garage and lo...</td>\n",
       "    </tr>\n",
       "    <tr>\n",
       "      <th>24411</th>\n",
       "      <td>NaN</td>\n",
       "    </tr>\n",
       "    <tr>\n",
       "      <th>24412</th>\n",
       "      <td>[u\"Nice guy Alex has gone well out of his way ...</td>\n",
       "    </tr>\n",
       "    <tr>\n",
       "      <th>24413</th>\n",
       "      <td>NaN</td>\n",
       "    </tr>\n",
       "    <tr>\n",
       "      <th>24414</th>\n",
       "      <td>[u\"Off the coast of Florida, a nearly-deserted...</td>\n",
       "    </tr>\n",
       "    <tr>\n",
       "      <th>24415</th>\n",
       "      <td>[u'Two guys from Kann journey to Sylt to fulfi...</td>\n",
       "    </tr>\n",
       "    <tr>\n",
       "      <th>24416</th>\n",
       "      <td>NaN</td>\n",
       "    </tr>\n",
       "    <tr>\n",
       "      <th>24417</th>\n",
       "      <td>[u\"Proud German owners of Opel Manta's race th...</td>\n",
       "    </tr>\n",
       "    <tr>\n",
       "      <th>24418</th>\n",
       "      <td>[u'Listening in to a conversation between his ...</td>\n",
       "    </tr>\n",
       "    <tr>\n",
       "      <th>24419</th>\n",
       "      <td>[u'Vintage footage from the Vietnam war is pre...</td>\n",
       "    </tr>\n",
       "    <tr>\n",
       "      <th>24420</th>\n",
       "      <td>[u'Follow the lives of soldiers who lived Worl...</td>\n",
       "    </tr>\n",
       "    <tr>\n",
       "      <th>24421</th>\n",
       "      <td>[u'A disfigured Holocaust survivor sets out to...</td>\n",
       "    </tr>\n",
       "    <tr>\n",
       "      <th>24422</th>\n",
       "      <td>[u'PARALLELS is a science-fiction adventure se...</td>\n",
       "    </tr>\n",
       "    <tr>\n",
       "      <th>24423</th>\n",
       "      <td>[u\"In the wake of her break-up with Ben, Steph...</td>\n",
       "    </tr>\n",
       "    <tr>\n",
       "      <th>24424</th>\n",
       "      <td>[u'Beaten up, bruised, and scared, a young wri...</td>\n",
       "    </tr>\n",
       "    <tr>\n",
       "      <th>24425</th>\n",
       "      <td>[u\"Din, who is the lead character of this stor...</td>\n",
       "    </tr>\n",
       "    <tr>\n",
       "      <th>24426</th>\n",
       "      <td>[u'In East Mission, Oregon, the Hit Point repo...</td>\n",
       "    </tr>\n",
       "    <tr>\n",
       "      <th>24427</th>\n",
       "      <td>[u\"Twenty-something Alan (Gleeson) is down on ...</td>\n",
       "    </tr>\n",
       "    <tr>\n",
       "      <th>24428</th>\n",
       "      <td>[u\"You don't sleep with your friend's girlfrie...</td>\n",
       "    </tr>\n",
       "    <tr>\n",
       "      <th>24429</th>\n",
       "      <td>[u\"6-year old Hayat turns up in Hartmut's taxi...</td>\n",
       "    </tr>\n",
       "    <tr>\n",
       "      <th>24430</th>\n",
       "      <td>[u'A late bloomer, 15-year-old Flo experiences...</td>\n",
       "    </tr>\n",
       "    <tr>\n",
       "      <th>24431</th>\n",
       "      <td>[u\"Kenai, still a bear and Koda strongly belie...</td>\n",
       "    </tr>\n",
       "    <tr>\n",
       "      <th>24432</th>\n",
       "      <td>[u'Two families discuss their rights, and expe...</td>\n",
       "    </tr>\n",
       "    <tr>\n",
       "      <th>24433</th>\n",
       "      <td>[u'The Austrian Alps, some years ago. While pl...</td>\n",
       "    </tr>\n",
       "    <tr>\n",
       "      <th>24434</th>\n",
       "      <td>[u\"When a misunderstood dust-keeper fairy name...</td>\n",
       "    </tr>\n",
       "    <tr>\n",
       "      <th>24435</th>\n",
       "      <td>[u\"Martti Suosalo transforms himself into Irwi...</td>\n",
       "    </tr>\n",
       "    <tr>\n",
       "      <th>24436</th>\n",
       "      <td>[u'After the untimely death of her mother in a...</td>\n",
       "    </tr>\n",
       "  </tbody>\n",
       "</table>\n",
       "<p>24437 rows × 1 columns</p>\n",
       "</div>"
      ],
      "text/plain": [
       "                                                    plot\n",
       "0      [u'A little boy named Andy loves to be in his ...\n",
       "1      [u'After being trapped in a jungle board game ...\n",
       "2      [u'Things don\\'t seem to change much in Wabash...\n",
       "3      [u\"This story based on the best selling novel ...\n",
       "4      [u'In this sequel to \"Father of the Bride\", Ge...\n",
       "5      [u\"Hunters and their prey--Neil and his profes...\n",
       "6      [u\"While she was growing up, Sabrina Fairchild...\n",
       "7      [u'A mischievous young boy, Tom Sawyer (', u'T...\n",
       "8      [u'Some terrorists kidnap the Vice President o...\n",
       "9      [u'When a deadly satellite weapon system falls...\n",
       "10     [u\"Andrew Shepherd is approaching the end of h...\n",
       "11     [u'Another spoof from the mind of Mel Brooks. ...\n",
       "12     [u'A half-wolf, half-husky named Balto gets a ...\n",
       "13     [u\"Director Oliver Stone's exploration of form...\n",
       "14     [u'Morgan Adams and her slave, William Shaw, a...\n",
       "15     [u\"This Martin Scorsese film depicts the Janus...\n",
       "16     [u'When Mr. Dashwood dies, he must leave the b...\n",
       "17     [u\"This movie features the collaborative direc...\n",
       "18     [u'Ace Ventura, emerging from self-imposed exi...\n",
       "19     [u'Two foster brothers work as transit cops. W...\n",
       "20     [u\"Some guys get all the luck, whether they li...\n",
       "21     [u'In San Francisco, the criminal psychologist...\n",
       "22     [u\"Robert Rath is a seasoned hitman who just w...\n",
       "23     [u'When sheriff Barnum investigates the death ...\n",
       "24     [u\"Because his wife left him and took his son ...\n",
       "25     [u'Iago convinces Othello, The Moor of Venice ...\n",
       "26     [u\"Roberta, Teeny, Samantha and Chrissy have b...\n",
       "27     [u\"Eight years earlier, Anne Elliot, the daugh...\n",
       "28     [u'Louanne Johnson is an ex-marine, hired as a...\n",
       "29     [u\"In 1920's South America a small group of Fr...\n",
       "...                                                  ...\n",
       "24407                                                NaN\n",
       "24408                                                NaN\n",
       "24409  [u\"When Frank is diagnosed with incurable brai...\n",
       "24410  [u'Tommie works as mechanic in a garage and lo...\n",
       "24411                                                NaN\n",
       "24412  [u\"Nice guy Alex has gone well out of his way ...\n",
       "24413                                                NaN\n",
       "24414  [u\"Off the coast of Florida, a nearly-deserted...\n",
       "24415  [u'Two guys from Kann journey to Sylt to fulfi...\n",
       "24416                                                NaN\n",
       "24417  [u\"Proud German owners of Opel Manta's race th...\n",
       "24418  [u'Listening in to a conversation between his ...\n",
       "24419  [u'Vintage footage from the Vietnam war is pre...\n",
       "24420  [u'Follow the lives of soldiers who lived Worl...\n",
       "24421  [u'A disfigured Holocaust survivor sets out to...\n",
       "24422  [u'PARALLELS is a science-fiction adventure se...\n",
       "24423  [u\"In the wake of her break-up with Ben, Steph...\n",
       "24424  [u'Beaten up, bruised, and scared, a young wri...\n",
       "24425  [u\"Din, who is the lead character of this stor...\n",
       "24426  [u'In East Mission, Oregon, the Hit Point repo...\n",
       "24427  [u\"Twenty-something Alan (Gleeson) is down on ...\n",
       "24428  [u\"You don't sleep with your friend's girlfrie...\n",
       "24429  [u\"6-year old Hayat turns up in Hartmut's taxi...\n",
       "24430  [u'A late bloomer, 15-year-old Flo experiences...\n",
       "24431  [u\"Kenai, still a bear and Koda strongly belie...\n",
       "24432  [u'Two families discuss their rights, and expe...\n",
       "24433  [u'The Austrian Alps, some years ago. While pl...\n",
       "24434  [u\"When a misunderstood dust-keeper fairy name...\n",
       "24435  [u\"Martti Suosalo transforms himself into Irwi...\n",
       "24436  [u'After the untimely death of her mother in a...\n",
       "\n",
       "[24437 rows x 1 columns]"
      ]
     },
     "execution_count": 92,
     "metadata": {},
     "output_type": "execute_result"
    }
   ],
   "source": [
    "scrapedMovieData[['plot']]"
   ]
  },
  {
   "cell_type": "code",
   "execution_count": 77,
   "metadata": {
    "collapsed": false
   },
   "outputs": [
    {
     "data": {
      "text/plain": [
       "(24437, 24)"
      ]
     },
     "execution_count": 77,
     "metadata": {},
     "output_type": "execute_result"
    }
   ],
   "source": [
    "scrapedMovieData.shape"
   ]
  },
  {
   "cell_type": "code",
   "execution_count": 81,
   "metadata": {
    "collapsed": false
   },
   "outputs": [
    {
     "data": {
      "text/plain": [
       "Index([u'rating', u'runtimes', u'year', u'languages', u'votes', u'producer',\n",
       "       u'title', u'writer', u'editor', u'certificates', u'country codes',\n",
       "       u'language codes', u'cover url', u'genres', u'director',\n",
       "       u'production companies', u'countries', u'plot outline', u'plot',\n",
       "       u'cast', u'original music', u'full-size cover url', u'movie_len_title',\n",
       "       u'mpaa'],\n",
       "      dtype='object')"
      ]
     },
     "execution_count": 81,
     "metadata": {},
     "output_type": "execute_result"
    }
   ],
   "source": [
    "scrapedMovieData.keys()"
   ]
  },
  {
   "cell_type": "code",
   "execution_count": 103,
   "metadata": {
    "collapsed": true
   },
   "outputs": [],
   "source": [
    "movieData  = scrapedMovieData\n",
    "vectorizer = CountVectorizer(max_features=200)\n"
   ]
  },
  {
   "cell_type": "code",
   "execution_count": 105,
   "metadata": {
    "collapsed": false
   },
   "outputs": [
    {
     "name": "stdout",
     "output_type": "stream",
     "text": [
      "(24437, 1)\n"
     ]
    },
    {
     "name": "stderr",
     "output_type": "stream",
     "text": [
      "/usr/local/lib/python2.7/site-packages/ipykernel/__main__.py:4: SettingWithCopyWarning: \n",
      "A value is trying to be set on a copy of a slice from a DataFrame.\n",
      "Try using .loc[row_indexer,col_indexer] = value instead\n",
      "\n",
      "See the caveats in the documentation: http://pandas.pydata.org/pandas-docs/stable/indexing.html#indexing-view-versus-copy\n",
      "/usr/local/lib/python2.7/site-packages/ipykernel/__main__.py:6: SettingWithCopyWarning: \n",
      "A value is trying to be set on a copy of a slice from a DataFrame\n",
      "\n",
      "See the caveats in the documentation: http://pandas.pydata.org/pandas-docs/stable/indexing.html#indexing-view-versus-copy\n"
     ]
    }
   ],
   "source": [
    "\n",
    "movie_plot = movieData[['plot']]\n",
    "\n",
    "movieData[['plot']][ pd.isnull(movieData[['plot']]) ] = \"\"\n",
    "\n",
    "movie_plot.dropna(inplace=True)\n",
    "\n",
    "vectorizer.fit(movieData[['plot']])\n",
    "\n",
    "print movieData[['plot']].shape\n",
    "\n",
    "movieFeatures = vectorizer.transform(movieData[['plot']])\n",
    "\n"
   ]
  },
  {
   "cell_type": "code",
   "execution_count": 119,
   "metadata": {
    "collapsed": false
   },
   "outputs": [],
   "source": [
    "movieData.ix[pd.isnull(movieData[['plot']]).as_matrix()[:,0],'plot'] = ''"
   ]
  },
  {
   "cell_type": "code",
   "execution_count": 118,
   "metadata": {
    "collapsed": false
   },
   "outputs": [
    {
     "data": {
      "text/plain": [
       "array([False, False, False, ..., False, False, False], dtype=bool)"
      ]
     },
     "execution_count": 118,
     "metadata": {},
     "output_type": "execute_result"
    }
   ],
   "source": [
    "pd.isnull(movieData[['plot']]).as_matrix()[:,0]"
   ]
  },
  {
   "cell_type": "code",
   "execution_count": 121,
   "metadata": {
    "collapsed": false
   },
   "outputs": [
    {
     "data": {
      "text/plain": [
       "(24437,)"
      ]
     },
     "execution_count": 121,
     "metadata": {},
     "output_type": "execute_result"
    }
   ],
   "source": [
    "pd.isnull(movieData['plot']).shape"
   ]
  },
  {
   "cell_type": "code",
   "execution_count": null,
   "metadata": {
    "collapsed": true
   },
   "outputs": [],
   "source": []
  }
 ],
 "metadata": {
  "kernelspec": {
   "display_name": "Python 2",
   "language": "python",
   "name": "python2"
  },
  "language_info": {
   "codemirror_mode": {
    "name": "ipython",
    "version": 2
   },
   "file_extension": ".py",
   "mimetype": "text/x-python",
   "name": "python",
   "nbconvert_exporter": "python",
   "pygments_lexer": "ipython2",
   "version": "2.7.11"
  }
 },
 "nbformat": 4,
 "nbformat_minor": 1
}
